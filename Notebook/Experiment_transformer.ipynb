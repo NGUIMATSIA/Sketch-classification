{
 "cells": [
  {
   "cell_type": "code",
   "execution_count": null,
   "metadata": {},
   "outputs": [],
   "source": [
    "import os\n",
    "import accelerate\n",
    "import matplotlib.pyplot as plt\n",
    "import numpy as np\n",
    "import pandas as pd\n",
    "\n",
    "from sklearn.utils import shuffle\n",
    "from tqdm import tqdm\n",
    "from PIL import Image\n",
    "\n",
    "import torch\n",
    "import torch.optim as optim\n",
    "import torch.nn as nn\n",
    "import torch.nn.functional as F\n",
    "\n",
    "from torch.utils.data import DataLoader\n",
    "from torchvision import datasets\n",
    "\n",
    "from transformers import AutoImageProcessor, ViTForImageClassification, TrainingArguments, Trainer\n",
    "from datasets import load_metric\n",
    "\n",
    "from utils import count_parameters\n",
    "from Preprocessor_Vision_transformers import AugmentedCustomImageDataset, CustomImageDataset, resize_data\n",
    "from utils import predict_classes"
   ]
  },
  {
   "cell_type": "code",
   "execution_count": null,
   "metadata": {},
   "outputs": [],
   "source": [
    "# some global variables \n",
    "\n",
    "device = torch.device(\"cuda\" if torch.cuda.is_available() else \"cpu\")\n",
    "size = 224\n",
    "default_inputsize = (size, size)\n",
    "nclasses = 250"
   ]
  },
  {
   "cell_type": "code",
   "execution_count": null,
   "metadata": {},
   "outputs": [],
   "source": [
    "image_processor = AutoImageProcessor.from_pretrained(\"google/vit-base-patch16-224-in21k\")\n",
    "model = ViTForImageClassification.from_pretrained(\"google/vit-base-patch16-224-in21k\")\n",
    "model = model.to(device)"
   ]
  },
  {
   "cell_type": "code",
   "execution_count": null,
   "metadata": {},
   "outputs": [],
   "source": [
    "count_parameters(model)"
   ]
  },
  {
   "cell_type": "code",
   "execution_count": null,
   "metadata": {},
   "outputs": [],
   "source": [
    "data_transforms = resize_data(default_inputsize)"
   ]
  },
  {
   "cell_type": "code",
   "execution_count": null,
   "metadata": {},
   "outputs": [],
   "source": [
    "image_data = datasets.ImageFolder('data_sketches/data_sketches/train_images')\n",
    "\n",
    "train_data_path = [image_data.imgs[i][0] for i in tqdm(range(len(image_data)))]\n",
    "train_labels = [image_data.imgs[i][1] for i in tqdm(range(len(image_data)))]\n",
    "\n",
    "train_data_path, train_labels= shuffle(train_data_path, train_labels,  random_state=0, n_samples=len(train_data_path))\n",
    "train_dataset = AugmentedCustomImageDataset(data_path=train_data_path, labels=train_labels, transform=data_transforms)\n",
    "len(train_dataset)"
   ]
  },
  {
   "cell_type": "code",
   "execution_count": null,
   "metadata": {},
   "outputs": [],
   "source": [
    "image_data = datasets.ImageFolder('data_sketches/data_sketches/val_images')\n",
    "\n",
    "images_classes = image_data.classes\n",
    "val_data_path = [image_data.imgs[i][0] for i in tqdm(range(len(image_data)))]\n",
    "val_labels = [image_data.imgs[i][1] for i in tqdm(range(len(image_data)))]\n",
    "\n",
    "val_dataset = CustomImageDataset(data_path=val_data_path, labels=val_labels, transform=data_transforms)\n",
    "len(val_dataset)"
   ]
  },
  {
   "cell_type": "code",
   "execution_count": null,
   "metadata": {},
   "outputs": [],
   "source": [
    "## Do the same go train set after split"
   ]
  },
  {
   "cell_type": "code",
   "execution_count": null,
   "metadata": {},
   "outputs": [],
   "source": [
    "#Define metric\n",
    "\n",
    "metric = load_metric(\"accuracy\")\n",
    "def compute_metrics(p):\n",
    "    return metric.compute(predictions=np.argmax(p.predictions, axis=1), references=p.label_ids)"
   ]
  },
  {
   "cell_type": "markdown",
   "metadata": {},
   "source": [
    "Prepare the hugging face trainer: th following parameters change depend on the experiment"
   ]
  },
  {
   "cell_type": "code",
   "execution_count": null,
   "metadata": {},
   "outputs": [],
   "source": [
    "training_args = TrainingArguments(\n",
    "  output_dir=\"./expert1\",\n",
    "  per_device_train_batch_size=64,\n",
    "  evaluation_strategy=\"epoch\",\n",
    "  save_strategy=\"epoch\",\n",
    "  logging_strategy=\"epoch\",\n",
    "  #eval_steps=94, # 4 eval per epoch\n",
    "  warmup_ratio= 0.1,\n",
    "  num_train_epochs=12,\n",
    "  lr_scheduler_type='linear',\n",
    "  fp16=True,\n",
    "  #save_steps=94,#  save per epoch\n",
    "  #logging_steps=22, # 4 logs per epoch\n",
    "  learning_rate=1e-4,\n",
    "  weight_decay=0.02,\n",
    "  remove_unused_columns=False,\n",
    "  push_to_hub=False,\n",
    "  report_to='tensorboard',\n",
    ")"
   ]
  },
  {
   "cell_type": "code",
   "execution_count": null,
   "metadata": {},
   "outputs": [],
   "source": [
    "trainer = Trainer(\n",
    "    model=model,\n",
    "    args=training_args,\n",
    "    compute_metrics=compute_metrics,\n",
    "    train_dataset=train_dataset,\n",
    "    eval_dataset=val_dataset\n",
    ")"
   ]
  },
  {
   "cell_type": "code",
   "execution_count": null,
   "metadata": {},
   "outputs": [],
   "source": [
    "trainer.train()"
   ]
  },
  {
   "cell_type": "code",
   "execution_count": null,
   "metadata": {},
   "outputs": [],
   "source": [
    "model = ViTForImageClassification.from_pretrained(\"/content/expert1\")\n",
    "model = model.to(device)"
   ]
  },
  {
   "cell_type": "markdown",
   "metadata": {},
   "source": [
    "Prepare the test data"
   ]
  },
  {
   "cell_type": "code",
   "execution_count": null,
   "metadata": {},
   "outputs": [],
   "source": [
    "image_data = datasets.ImageFolder('data_sketches/data_sketches/test_images')\n",
    "\n",
    "test_data_path = [image_data.imgs[i][0] for i in tqdm(range(len(image_data)))]\n",
    "test_labels = [image_data.imgs[i][1] for i in tqdm(range(len(image_data)))]\n",
    "\n",
    "test_dataset = CustomImageDataset(data_path=test_data_path, labels=test_labels, transform=data_transforms)\n",
    "test_dataloader = DataLoader(test_dataset, batch_size=64, shuffle=False)"
   ]
  },
  {
   "cell_type": "code",
   "execution_count": null,
   "metadata": {},
   "outputs": [],
   "source": [
    "test_pred = predict_classes(model, test_dataloader, device)\n",
    "np.save('test_pred_expert1.npy', test_pred)"
   ]
  },
  {
   "cell_type": "code",
   "execution_count": null,
   "metadata": {},
   "outputs": [],
   "source": [
    "kaggle_tab = pd.DataFrame([], columns=['Id', 'Label'])\n",
    "\n",
    "kaggle_tab['Id'] = [i.split('/')[-1].split('.')[0] for i in test_data_path]\n",
    "kaggle_tab['Category'] = test_data_predictions.astype(int)\n",
    "\n",
    "kaggle_tab.head()"
   ]
  }
 ],
 "metadata": {
  "language_info": {
   "name": "python"
  }
 },
 "nbformat": 4,
 "nbformat_minor": 2
}
