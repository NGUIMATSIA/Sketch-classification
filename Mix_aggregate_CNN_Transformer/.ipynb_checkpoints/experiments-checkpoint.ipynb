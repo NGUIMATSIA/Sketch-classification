{
 "cells": [
  {
   "cell_type": "code",
   "execution_count": 2,
   "metadata": {
    "colab": {
     "base_uri": "https://localhost:8080/"
    },
    "executionInfo": {
     "elapsed": 22578,
     "status": "ok",
     "timestamp": 1705523354877,
     "user": {
      "displayName": "Franki Nguimatsia",
      "userId": "17250965153113534178"
     },
     "user_tz": -60
    },
    "id": "5EwluwXAeYTi",
    "outputId": "50ecc4c5-d69c-4eba-bf34-d146c5eacccf"
   },
   "outputs": [
    {
     "name": "stdout",
     "output_type": "stream",
     "text": [
      "Mounted at /content/drive\n"
     ]
    }
   ],
   "source": [
    "from google.colab import drive\n",
    "drive.mount('/content/drive')"
   ]
  },
  {
   "cell_type": "code",
   "execution_count": 1,
   "metadata": {
    "colab": {
     "base_uri": "https://localhost:8080/"
    },
    "executionInfo": {
     "elapsed": 6846,
     "status": "ok",
     "timestamp": 1705523369779,
     "user": {
      "displayName": "Franki Nguimatsia",
      "userId": "17250965153113534178"
     },
     "user_tz": -60
    },
    "id": "hxg84lgT2cYo",
    "outputId": "e215bd36-1e8c-41c0-db73-e0cb4a4ac578"
   },
   "outputs": [],
   "source": [
    "#pip install timm"
   ]
  },
  {
   "cell_type": "code",
   "execution_count": 4,
   "metadata": {
    "executionInfo": {
     "elapsed": 4,
     "status": "ok",
     "timestamp": 1705523373165,
     "user": {
      "displayName": "Franki Nguimatsia",
      "userId": "17250965153113534178"
     },
     "user_tz": -60
    },
    "id": "Z3KFN3RZfi-u"
   },
   "outputs": [],
   "source": [
    "import sys\n",
    "path_to_module_1 = '/content/drive/My Drive/Sketch-classification/Mix_aggregate_CNN_Transformer/'\n",
    "sys.path.append(path_to_module_1)"
   ]
  },
  {
   "cell_type": "markdown",
   "metadata": {
    "id": "JhaeZTaOdffU"
   },
   "source": [
    "#  Lets Finetune some well know architectures"
   ]
  },
  {
   "cell_type": "markdown",
   "metadata": {
    "id": "NwZrsmP3dffa"
   },
   "source": [
    "## I) Convolutional architectures"
   ]
  },
  {
   "cell_type": "markdown",
   "metadata": {
    "id": "ON_16v-Xdffc"
   },
   "source": [
    "### 1) Resnet50"
   ]
  },
  {
   "cell_type": "code",
   "execution_count": null,
   "metadata": {
    "id": "60ldFzPSdffc"
   },
   "outputs": [],
   "source": [
    "#!python /content/drive/My\\ Drive/Sketch-classification/Mix_aggregate_CNN_Transformer/main.py --data_train /content/drive/My\\ Drive/TU_berlin/train --data_val /content/drive/My\\ Drive/TU_berlin/val --model model.py --model_name resnet50 --epochs 50\n"
   ]
  },
  {
   "cell_type": "markdown",
   "metadata": {
    "id": "ajlDkKG94U7V"
   },
   "source": [
    "**Evaluation on test set**"
   ]
  },
  {
   "cell_type": "code",
   "execution_count": null,
   "metadata": {
    "colab": {
     "base_uri": "https://localhost:8080/"
    },
    "executionInfo": {
     "elapsed": 252214,
     "status": "ok",
     "timestamp": 1705421500567,
     "user": {
      "displayName": "Franki Nguimatsia",
      "userId": "17250965153113534178"
     },
     "user_tz": -60
    },
    "id": "KfE2C0pvdffe",
    "outputId": "f21b158c-f75e-4063-8e0f-95804240ddc4",
    "scrolled": true
   },
   "outputs": [
    {
     "name": "stdout",
     "output_type": "stream",
     "text": [
      "/usr/local/lib/python3.10/dist-packages/torchvision/models/_utils.py:223: UserWarning: Arguments other than a weight enum or `None` for 'weights' are deprecated since 0.13 and may be removed in the future. The current behavior is equivalent to passing `weights=None`.\n",
      "  warnings.warn(msg)\n",
      "100% 3000/3000 [03:43<00:00, 13.41it/s]\n",
      "Global Accuracy: 0.747\n",
      "Top 5 Performing Classes: [('apple', 1.0), ('blimp', 1.0), ('camera', 1.0), ('chair', 1.0), ('comb', 1.0)]\n",
      "Bottom 5 Performing Classes: [('standing bird', 0.3333333333333333), ('armchair', 0.25), ('cabinet', 0.25), ('bear (animal)', 0.16666666666666666), ('suv', 0.16666666666666666)]\n"
     ]
    }
   ],
   "source": [
    "!python /content/drive/My\\ Drive/Sketch-classification/Mix_aggregate_CNN_Transformer/evaluate.py --model_names resnet50"
   ]
  },
  {
   "cell_type": "markdown",
   "metadata": {},
   "source": [
    "**Display the performance on validation set**"
   ]
  },
  {
   "cell_type": "code",
   "execution_count": null,
   "metadata": {
    "colab": {
     "base_uri": "https://localhost:8080/"
    },
    "executionInfo": {
     "elapsed": 32853,
     "status": "ok",
     "timestamp": 1705421534025,
     "user": {
      "displayName": "Franki Nguimatsia",
      "userId": "17250965153113534178"
     },
     "user_tz": -60
    },
    "id": "vTaalRfxBzy1",
    "outputId": "7d71324b-95b2-42fa-8392-46911d929c9d"
   },
   "outputs": [
    {
     "name": "stdout",
     "output_type": "stream",
     "text": [
      "/usr/local/lib/python3.10/dist-packages/torchvision/models/_utils.py:223: UserWarning: Arguments other than a weight enum or `None` for 'weights' are deprecated since 0.13 and may be removed in the future. The current behavior is equivalent to passing `weights=None`.\n",
      "  warnings.warn(msg)\n",
      "100% 3000/3000 [00:27<00:00, 107.66it/s]\n",
      "Global Accuracy: 0.7376666666666667\n",
      "Top 5 Performing Classes: [('baseball bat', 1.0), ('camel', 1.0), ('chair', 1.0), ('computer-mouse', 1.0), ('ear', 1.0)]\n",
      "Bottom 5 Performing Classes: [('suv', 0.3333333333333333), ('tiger', 0.3333333333333333), ('armchair', 0.25), ('bridge', 0.25), ('bush', 0.16666666666666666)]\n"
     ]
    }
   ],
   "source": [
    "!python /content/drive/My\\ Drive/Sketch-classification/Mix_aggregate_CNN_Transformer/evaluate.py --data val --model_names resnet50"
   ]
  },
  {
   "cell_type": "markdown",
   "metadata": {
    "id": "XjOctQQwdfff"
   },
   "source": [
    "### 2) Resnext50\n"
   ]
  },
  {
   "cell_type": "code",
   "execution_count": null,
   "metadata": {
    "id": "YX_de5Irdfff"
   },
   "outputs": [],
   "source": [
    "#!python /content/drive/My\\ Drive/Sketch-classification/Mix_aggregate_CNN_Transformer/main.py --data_train /content/drive/My\\ Drive/TU_berlin/train --data_val /content/drive/My\\ Drive/TU_berlin/val --model model.py --model_name resnext50_32x4d --epochs 50"
   ]
  },
  {
   "cell_type": "markdown",
   "metadata": {
    "id": "zKjWepqL4rrd"
   },
   "source": [
    "**Evaluation on test set**"
   ]
  },
  {
   "cell_type": "code",
   "execution_count": null,
   "metadata": {
    "colab": {
     "base_uri": "https://localhost:8080/"
    },
    "executionInfo": {
     "elapsed": 74707,
     "status": "ok",
     "timestamp": 1705337427732,
     "user": {
      "displayName": "Franki Nguimatsia",
      "userId": "17250965153113534178"
     },
     "user_tz": -60
    },
    "id": "TDwCOLa-dfff",
    "outputId": "4792946b-3488-4433-dd38-2bb1a8f83cc0"
   },
   "outputs": [
    {
     "name": "stdout",
     "output_type": "stream",
     "text": [
      "/usr/local/lib/python3.10/dist-packages/torchvision/models/_utils.py:223: UserWarning: Arguments other than a weight enum or `None` for 'weights' are deprecated since 0.13 and may be removed in the future. The current behavior is equivalent to passing `weights=None`.\n",
      "  warnings.warn(msg)\n",
      "/usr/local/lib/python3.10/dist-packages/torch/utils/data/dataloader.py:557: UserWarning: This DataLoader will create 4 worker processes in total. Our suggested max number of worker in current system is 2, which is smaller than what this DataLoader is going to create. Please be aware that excessive worker creation might get DataLoader running slow or even freeze, lower the worker number to avoid potential slowness/freeze if necessary.\n",
      "  warnings.warn(_create_warning_msg(\n",
      "100% 3000/3000 [01:08<00:00, 43.77it/s]\n",
      "Global Accuracy: 0.7516666666666667\n",
      "Top 5 Performing Classes: [('baseball bat', 1.0), ('ear', 1.0), ('envelope', 1.0), ('eyeglasses', 1.0), ('grapes', 1.0)]\n",
      "Bottom 5 Performing Classes: [('seagull', 0.3333333333333333), ('ship', 0.3333333333333333), ('monkey', 0.16666666666666666), ('race car', 0.16666666666666666), ('standing bird', 0.08333333333333333)]\n"
     ]
    }
   ],
   "source": [
    "!python /content/drive/My\\ Drive/Sketch-classification/Mix_aggregate_CNN_Transformer/evaluate.py --model_names resnext50_32x4d"
   ]
  },
  {
   "cell_type": "markdown",
   "metadata": {
    "id": "WDN-GztF6FWo"
   },
   "source": [
    "**Display the performance on validation set**"
   ]
  },
  {
   "cell_type": "code",
   "execution_count": null,
   "metadata": {
    "colab": {
     "base_uri": "https://localhost:8080/"
    },
    "executionInfo": {
     "elapsed": 34045,
     "status": "ok",
     "timestamp": 1705421568047,
     "user": {
      "displayName": "Franki Nguimatsia",
      "userId": "17250965153113534178"
     },
     "user_tz": -60
    },
    "id": "7CzO-xm36CLQ",
    "outputId": "57ae7792-b22e-4fce-f437-871ea4efe77e"
   },
   "outputs": [
    {
     "name": "stdout",
     "output_type": "stream",
     "text": [
      "/usr/local/lib/python3.10/dist-packages/torchvision/models/_utils.py:223: UserWarning: Arguments other than a weight enum or `None` for 'weights' are deprecated since 0.13 and may be removed in the future. The current behavior is equivalent to passing `weights=None`.\n",
      "  warnings.warn(msg)\n",
      "100% 3000/3000 [00:26<00:00, 111.57it/s]\n",
      "Global Accuracy: 0.745\n",
      "Top 5 Performing Classes: [('baseball bat', 1.0), ('bicycle', 1.0), ('candle', 1.0), ('computer-mouse', 1.0), ('ear', 1.0)]\n",
      "Bottom 5 Performing Classes: [('dragon', 0.3333333333333333), ('house', 0.3333333333333333), ('bear (animal)', 0.25), ('speed-boat', 0.25), ('race car', 0.16666666666666666)]\n"
     ]
    }
   ],
   "source": [
    "!python /content/drive/My\\ Drive/Sketch-classification/Mix_aggregate_CNN_Transformer/evaluate.py --data val --model_names resnext50_32x4d"
   ]
  },
  {
   "cell_type": "markdown",
   "metadata": {
    "id": "9-wBIqFQdffg"
   },
   "source": [
    "### 3) efficientnet_b3"
   ]
  },
  {
   "cell_type": "code",
   "execution_count": null,
   "metadata": {
    "id": "3moGsnq8dffg"
   },
   "outputs": [],
   "source": [
    "#!python /content/drive/My\\ Drive/Sketch-classification/Mix_aggregate_CNN_Transformer/main.py --data_train /content/drive/My\\ Drive/TU_berlin/train --data_val /content/drive/My\\ Drive/TU_berlin/val --model model.py --model_name efficientnet_b3 --epochs 50"
   ]
  },
  {
   "cell_type": "markdown",
   "metadata": {
    "id": "uqs7wPR44ufi"
   },
   "source": [
    "**Evaluation on test set**"
   ]
  },
  {
   "cell_type": "code",
   "execution_count": null,
   "metadata": {
    "colab": {
     "base_uri": "https://localhost:8080/"
    },
    "executionInfo": {
     "elapsed": 58625,
     "status": "ok",
     "timestamp": 1705421626668,
     "user": {
      "displayName": "Franki Nguimatsia",
      "userId": "17250965153113534178"
     },
     "user_tz": -60
    },
    "id": "nHnqV6Qkdffg",
    "outputId": "ebf2c10c-02d8-4b7f-cc19-dcecfd521a64"
   },
   "outputs": [
    {
     "name": "stdout",
     "output_type": "stream",
     "text": [
      "100% 3000/3000 [00:52<00:00, 57.10it/s]\n",
      "Global Accuracy: 0.7413333333333333\n",
      "Top 5 Performing Classes: [('apple', 1.0), ('bookshelf', 1.0), ('comb', 1.0), ('crocodile', 1.0), ('donut', 1.0)]\n",
      "Bottom 5 Performing Classes: [('suv', 0.3333333333333333), ('bear (animal)', 0.25), ('dog', 0.16666666666666666), ('seagull', 0.16666666666666666), ('standing bird', 0.16666666666666666)]\n"
     ]
    }
   ],
   "source": [
    "!python /content/drive/My\\ Drive/Sketch-classification/Mix_aggregate_CNN_Transformer/evaluate.py --model_names efficientnet_b3"
   ]
  },
  {
   "cell_type": "markdown",
   "metadata": {
    "id": "9Cvggmnt6JSE"
   },
   "source": [
    "**Display the performance on validation set**"
   ]
  },
  {
   "cell_type": "code",
   "execution_count": null,
   "metadata": {
    "colab": {
     "base_uri": "https://localhost:8080/"
    },
    "executionInfo": {
     "elapsed": 56029,
     "status": "ok",
     "timestamp": 1705421682680,
     "user": {
      "displayName": "Franki Nguimatsia",
      "userId": "17250965153113534178"
     },
     "user_tz": -60
    },
    "id": "pdTuj57I9wew",
    "outputId": "a3a37f1d-6bb3-4e13-c03a-2ccdd283e8d6"
   },
   "outputs": [
    {
     "name": "stdout",
     "output_type": "stream",
     "text": [
      "100% 3000/3000 [00:51<00:00, 58.13it/s]\n",
      "Global Accuracy: 0.726\n",
      "Top 5 Performing Classes: [('arm', 1.0), ('computer-mouse', 1.0), ('donut', 1.0), ('ear', 1.0), ('eye', 1.0)]\n",
      "Bottom 5 Performing Classes: [('seagull', 0.3333333333333333), ('standing bird', 0.3333333333333333), ('angel', 0.25), ('cup', 0.25), ('race car', 0.16666666666666666)]\n"
     ]
    }
   ],
   "source": [
    "!python /content/drive/My\\ Drive/Sketch-classification/Mix_aggregate_CNN_Transformer/evaluate.py --data val --model_names efficientnet_b3"
   ]
  },
  {
   "cell_type": "markdown",
   "metadata": {
    "id": "EH--FU_rggus"
   },
   "source": [
    "### 4) Mobilenet V2\n",
    "\n"
   ]
  },
  {
   "cell_type": "code",
   "execution_count": null,
   "metadata": {
    "id": "-JiWBogwgfSu"
   },
   "outputs": [],
   "source": [
    "#!python /content/drive/My\\ Drive/Sketch-classification/Mix_aggregate_CNN_Transformer/main.py --data_train /content/drive/My\\ Drive/TU_berlin/train --data_val /content/drive/My\\ Drive/TU_berlin/val --model model.py --model_name mobilenet_v2 --epochs 50"
   ]
  },
  {
   "cell_type": "markdown",
   "metadata": {
    "id": "W2SPuvST4wC7"
   },
   "source": [
    "**Evaluation on test set**"
   ]
  },
  {
   "cell_type": "code",
   "execution_count": null,
   "metadata": {
    "colab": {
     "base_uri": "https://localhost:8080/"
    },
    "executionInfo": {
     "elapsed": 29328,
     "status": "ok",
     "timestamp": 1705421711995,
     "user": {
      "displayName": "Franki Nguimatsia",
      "userId": "17250965153113534178"
     },
     "user_tz": -60
    },
    "id": "p3166srv22qj",
    "outputId": "27201ddb-4f93-4092-a8d7-15a4c360dd28"
   },
   "outputs": [
    {
     "name": "stdout",
     "output_type": "stream",
     "text": [
      "/usr/local/lib/python3.10/dist-packages/torchvision/models/_utils.py:208: UserWarning: The parameter 'pretrained' is deprecated since 0.13 and may be removed in the future, please use 'weights' instead.\n",
      "  warnings.warn(\n",
      "/usr/local/lib/python3.10/dist-packages/torchvision/models/_utils.py:223: UserWarning: Arguments other than a weight enum or `None` for 'weights' are deprecated since 0.13 and may be removed in the future. The current behavior is equivalent to passing `weights=None`.\n",
      "  warnings.warn(msg)\n",
      "100% 3000/3000 [00:24<00:00, 123.47it/s]\n",
      "Global Accuracy: 0.709\n",
      "Top 5 Performing Classes: [('cloud', 1.0), ('crab', 1.0), ('grapes', 1.0), ('ladder', 1.0), ('pineapple', 1.0)]\n",
      "Bottom 5 Performing Classes: [('monkey', 0.25), ('bear (animal)', 0.16666666666666666), ('seagull', 0.16666666666666666), ('standing bird', 0.16666666666666666), ('suv', 0.16666666666666666)]\n"
     ]
    }
   ],
   "source": [
    "!python /content/drive/My\\ Drive/Sketch-classification/Mix_aggregate_CNN_Transformer/evaluate.py --model_names mobilenet_v2"
   ]
  },
  {
   "cell_type": "markdown",
   "metadata": {
    "id": "XhjTFENU6MCP"
   },
   "source": [
    "**Display the performance on validation set**"
   ]
  },
  {
   "cell_type": "code",
   "execution_count": null,
   "metadata": {
    "colab": {
     "base_uri": "https://localhost:8080/"
    },
    "executionInfo": {
     "elapsed": 28665,
     "status": "ok",
     "timestamp": 1705421740647,
     "user": {
      "displayName": "Franki Nguimatsia",
      "userId": "17250965153113534178"
     },
     "user_tz": -60
    },
    "id": "vJ4_ZGSl92Si",
    "outputId": "f0e9eab4-107a-4d22-885b-89c5d1841656"
   },
   "outputs": [
    {
     "name": "stdout",
     "output_type": "stream",
     "text": [
      "/usr/local/lib/python3.10/dist-packages/torchvision/models/_utils.py:208: UserWarning: The parameter 'pretrained' is deprecated since 0.13 and may be removed in the future, please use 'weights' instead.\n",
      "  warnings.warn(\n",
      "/usr/local/lib/python3.10/dist-packages/torchvision/models/_utils.py:223: UserWarning: Arguments other than a weight enum or `None` for 'weights' are deprecated since 0.13 and may be removed in the future. The current behavior is equivalent to passing `weights=None`.\n",
      "  warnings.warn(msg)\n",
      "100% 3000/3000 [00:24<00:00, 123.73it/s]\n",
      "Global Accuracy: 0.698\n",
      "Top 5 Performing Classes: [('apple', 1.0), ('arm', 1.0), ('bicycle', 1.0), ('brain', 1.0), ('computer-mouse', 1.0)]\n",
      "Bottom 5 Performing Classes: [('head', 0.25), ('pickup truck', 0.25), ('bear (animal)', 0.16666666666666666), ('panda', 0.08333333333333333), ('seagull', 0.08333333333333333)]\n"
     ]
    }
   ],
   "source": [
    "!python /content/drive/My\\ Drive/Sketch-classification/Mix_aggregate_CNN_Transformer/evaluate.py --data val --model_names mobilenet_v2"
   ]
  },
  {
   "cell_type": "markdown",
   "metadata": {
    "id": "oJkXeodqdffh"
   },
   "source": [
    "## II) Vision transformers Architectures"
   ]
  },
  {
   "cell_type": "markdown",
   "metadata": {
    "id": "tCveG9Tldffh"
   },
   "source": [
    "### 1) ViT"
   ]
  },
  {
   "cell_type": "code",
   "execution_count": null,
   "metadata": {
    "id": "co2Ac_drdffh"
   },
   "outputs": [],
   "source": [
    "#!python /content/drive/My\\ Drive/Sketch-classification/Mix_aggregate_CNN_Transformer/main.py --data_train /content/drive/My\\ Drive/TU_berlin/train --data_val /content/drive/My\\ Drive/TU_berlin/val --model model.py --model_name vit --epochs 50"
   ]
  },
  {
   "cell_type": "markdown",
   "metadata": {
    "id": "F1_awUIa4zPt"
   },
   "source": [
    "**Evaluation on test set**"
   ]
  },
  {
   "cell_type": "code",
   "execution_count": null,
   "metadata": {
    "colab": {
     "base_uri": "https://localhost:8080/"
    },
    "executionInfo": {
     "elapsed": 32134,
     "status": "ok",
     "timestamp": 1705421772768,
     "user": {
      "displayName": "Franki Nguimatsia",
      "userId": "17250965153113534178"
     },
     "user_tz": -60
    },
    "id": "2xitRFW0dffh",
    "outputId": "e6993fab-5d34-4e38-e8f3-94c87885550b"
   },
   "outputs": [
    {
     "name": "stdout",
     "output_type": "stream",
     "text": [
      "100% 3000/3000 [00:22<00:00, 131.38it/s]\n",
      "Global Accuracy: 0.792\n",
      "Top 5 Performing Classes: [('apple', 1.0), ('butterfly', 1.0), ('cloud', 1.0), ('comb', 1.0), ('computer-mouse', 1.0)]\n",
      "Bottom 5 Performing Classes: [('barn', 0.3333333333333333), ('door handle', 0.3333333333333333), ('race car', 0.3333333333333333), ('bear (animal)', 0.25), ('standing bird', 0.25)]\n"
     ]
    }
   ],
   "source": [
    "!python /content/drive/My\\ Drive/Sketch-classification/Mix_aggregate_CNN_Transformer/evaluate.py --model_names vit"
   ]
  },
  {
   "cell_type": "markdown",
   "metadata": {
    "id": "ytG7D0ZG6PG3"
   },
   "source": [
    "**Display the performance on validation set**"
   ]
  },
  {
   "cell_type": "code",
   "execution_count": null,
   "metadata": {
    "colab": {
     "base_uri": "https://localhost:8080/"
    },
    "executionInfo": {
     "elapsed": 29631,
     "status": "ok",
     "timestamp": 1705421802395,
     "user": {
      "displayName": "Franki Nguimatsia",
      "userId": "17250965153113534178"
     },
     "user_tz": -60
    },
    "id": "GRKKq_IS98NU",
    "outputId": "c745dfec-0d8a-4852-be19-6a208939fce7"
   },
   "outputs": [
    {
     "name": "stdout",
     "output_type": "stream",
     "text": [
      "100% 3000/3000 [00:23<00:00, 126.48it/s]\n",
      "Global Accuracy: 0.7866666666666666\n",
      "Top 5 Performing Classes: [('airplane', 1.0), ('bicycle', 1.0), ('book', 1.0), ('carrot', 1.0), ('church', 1.0)]\n",
      "Bottom 5 Performing Classes: [('pigeon', 0.4166666666666667), ('door handle', 0.3333333333333333), ('race car', 0.3333333333333333), ('standing bird', 0.3333333333333333), ('cup', 0.16666666666666666)]\n"
     ]
    }
   ],
   "source": [
    "!python /content/drive/My\\ Drive/Sketch-classification/Mix_aggregate_CNN_Transformer/evaluate.py --data val --model_names vit"
   ]
  },
  {
   "cell_type": "markdown",
   "metadata": {
    "id": "k4_6NObldffh"
   },
   "source": [
    "### 2) Shift Window transformers (SwinT)"
   ]
  },
  {
   "cell_type": "code",
   "execution_count": null,
   "metadata": {
    "id": "Ursl6V-Ddffi"
   },
   "outputs": [],
   "source": [
    "#!python /content/drive/My\\ Drive/Sketch-classification/Mix_aggregate_CNN_Transformer/main.py --data_train /content/drive/My\\ Drive/TU_berlin/train --data_val /content/drive/My\\ Drive/TU_berlin/val --model model.py --model_name swin --epochs 50"
   ]
  },
  {
   "cell_type": "markdown",
   "metadata": {
    "id": "C7FzMGl541Jv"
   },
   "source": [
    "**Evaluation on test set**"
   ]
  },
  {
   "cell_type": "code",
   "execution_count": null,
   "metadata": {
    "colab": {
     "base_uri": "https://localhost:8080/"
    },
    "executionInfo": {
     "elapsed": 78343,
     "status": "ok",
     "timestamp": 1705421880734,
     "user": {
      "displayName": "Franki Nguimatsia",
      "userId": "17250965153113534178"
     },
     "user_tz": -60
    },
    "id": "nOKEGuuxdffi",
    "outputId": "ac4dec25-013c-4a25-82b9-276438d05b97"
   },
   "outputs": [
    {
     "name": "stdout",
     "output_type": "stream",
     "text": [
      "/usr/local/lib/python3.10/dist-packages/torch/functional.py:504: UserWarning: torch.meshgrid: in an upcoming release, it will be required to pass the indexing argument. (Triggered internally at ../aten/src/ATen/native/TensorShape.cpp:3526.)\n",
      "  return _VF.meshgrid(tensors, **kwargs)  # type: ignore[attr-defined]\n",
      "100% 3000/3000 [01:10<00:00, 42.68it/s]\n",
      "Global Accuracy: 0.7963333333333333\n",
      "Top 5 Performing Classes: [('apple', 1.0), ('blimp', 1.0), ('bus', 1.0), ('butterfly', 1.0), ('chair', 1.0)]\n",
      "Bottom 5 Performing Classes: [('seagull', 0.3333333333333333), ('teacup', 0.3333333333333333), ('teddy-bear', 0.3333333333333333), ('van', 0.3333333333333333), ('bear (animal)', 0.25)]\n"
     ]
    }
   ],
   "source": [
    "!python /content/drive/My\\ Drive/Sketch-classification/Mix_aggregate_CNN_Transformer/evaluate.py --model_names swin"
   ]
  },
  {
   "cell_type": "markdown",
   "metadata": {
    "id": "91ZK7YAQ6Rlq"
   },
   "source": [
    "**Display the performance on validation set**"
   ]
  },
  {
   "cell_type": "code",
   "execution_count": null,
   "metadata": {
    "colab": {
     "base_uri": "https://localhost:8080/"
    },
    "executionInfo": {
     "elapsed": 76747,
     "status": "ok",
     "timestamp": 1705421957460,
     "user": {
      "displayName": "Franki Nguimatsia",
      "userId": "17250965153113534178"
     },
     "user_tz": -60
    },
    "id": "2J6fg2VU-BMU",
    "outputId": "4ea3fe28-8c80-4ec0-c140-46344dc21fce"
   },
   "outputs": [
    {
     "name": "stdout",
     "output_type": "stream",
     "text": [
      "/usr/local/lib/python3.10/dist-packages/torch/functional.py:504: UserWarning: torch.meshgrid: in an upcoming release, it will be required to pass the indexing argument. (Triggered internally at ../aten/src/ATen/native/TensorShape.cpp:3526.)\n",
      "  return _VF.meshgrid(tensors, **kwargs)  # type: ignore[attr-defined]\n",
      "100% 3000/3000 [01:11<00:00, 41.98it/s]\n",
      "Global Accuracy: 0.7926666666666666\n",
      "Top 5 Performing Classes: [('airplane', 1.0), ('bicycle', 1.0), ('binoculars', 1.0), ('blimp', 1.0), ('carrot', 1.0)]\n",
      "Bottom 5 Performing Classes: [('pigeon', 0.3333333333333333), ('standing bird', 0.3333333333333333), ('truck', 0.3333333333333333), ('race car', 0.25), ('bulldozer', 0.16666666666666666)]\n"
     ]
    }
   ],
   "source": [
    "!python /content/drive/My\\ Drive/Sketch-classification/Mix_aggregate_CNN_Transformer/evaluate.py --data val --model_names swin"
   ]
  },
  {
   "cell_type": "markdown",
   "metadata": {
    "id": "i6vR83tgdffi"
   },
   "source": [
    "### 3) DEiT"
   ]
  },
  {
   "cell_type": "code",
   "execution_count": null,
   "metadata": {
    "colab": {
     "base_uri": "https://localhost:8080/"
    },
    "executionInfo": {
     "elapsed": 9976336,
     "status": "ok",
     "timestamp": 1705361940511,
     "user": {
      "displayName": "Franki Nguimatsia",
      "userId": "17250965153113534178"
     },
     "user_tz": -60
    },
    "id": "TG-t0VI8dffi",
    "outputId": "20b3ee0f-5d9f-4141-f7ec-40024f34bbe1"
   },
   "outputs": [
    {
     "name": "stdout",
     "output_type": "stream",
     "text": [
      "/usr/local/lib/python3.10/dist-packages/torch/utils/data/dataloader.py:557: UserWarning: This DataLoader will create 4 worker processes in total. Our suggested max number of worker in current system is 2, which is smaller than what this DataLoader is going to create. Please be aware that excessive worker creation might get DataLoader running slow or even freeze, lower the worker number to avoid potential slowness/freeze if necessary.\n",
      "  warnings.warn(_create_warning_msg(\n",
      "Model names: ['deit']\n",
      "model.safetensors: 100% 346M/346M [00:05<00:00, 65.8MB/s]\n",
      "Model: deit, Epoch: 0, Training Loss: 5.444573280473822, Validation Loss: 5.222128756502841, Accuracy: 0.034333333333333334\n",
      "Model: deit, Epoch: 1, Training Loss: 4.373226432495466, Validation Loss: 3.939066364410076, Accuracy: 0.25833333333333336\n",
      "Model: deit, Epoch: 2, Training Loss: 3.174726294600256, Validation Loss: 3.0060491460434933, Accuracy: 0.42333333333333334\n",
      "Model: deit, Epoch: 3, Training Loss: 2.448021394477043, Validation Loss: 2.4151574322517884, Accuracy: 0.5143333333333333\n",
      "Model: deit, Epoch: 4, Training Loss: 1.9874409992400914, Validation Loss: 2.0759623583326947, Accuracy: 0.5633333333333334\n",
      "Model: deit, Epoch: 5, Training Loss: 1.6704160720790358, Validation Loss: 1.8024080306925672, Accuracy: 0.6006666666666667\n",
      "Model: deit, Epoch: 6, Training Loss: 1.4537426723192817, Validation Loss: 1.6483426499874034, Accuracy: 0.6156666666666667\n",
      "Model: deit, Epoch: 7, Training Loss: 1.2929813472647644, Validation Loss: 1.519034667217985, Accuracy: 0.643\n",
      "Model: deit, Epoch: 8, Training Loss: 1.1653014405132973, Validation Loss: 1.418383721341478, Accuracy: 0.6583333333333333\n",
      "Model: deit, Epoch: 9, Training Loss: 1.0581612723058762, Validation Loss: 1.337462529223016, Accuracy: 0.6673333333333333\n",
      "Model: deit, Epoch: 10, Training Loss: 0.9716467596080205, Validation Loss: 1.2570926749959905, Accuracy: 0.6843333333333333\n",
      "Model: deit, Epoch: 11, Training Loss: 0.897707865118436, Validation Loss: 1.2246514038836702, Accuracy: 0.6836666666666666\n",
      "Model: deit, Epoch: 12, Training Loss: 0.8274884213051296, Validation Loss: 1.1622344077901636, Accuracy: 0.7006666666666667\n",
      "Model: deit, Epoch: 13, Training Loss: 0.771222309434795, Validation Loss: 1.146201954243031, Accuracy: 0.6993333333333334\n",
      "Model: deit, Epoch: 14, Training Loss: 0.7215976604860123, Validation Loss: 1.1052671480686107, Accuracy: 0.7143333333333334\n",
      "Model: deit, Epoch: 15, Training Loss: 0.6755207014954798, Validation Loss: 1.0971078669771235, Accuracy: 0.7113333333333334\n",
      "Model: deit, Epoch: 16, Training Loss: 0.6348964303868002, Validation Loss: 1.0603788837473442, Accuracy: 0.7196666666666667\n",
      "Model: deit, Epoch: 17, Training Loss: 0.5902627005696841, Validation Loss: 1.0317526662603338, Accuracy: 0.7273333333333334\n",
      "Model: deit, Epoch: 18, Training Loss: 0.5521621729277041, Validation Loss: 1.0188136050041685, Accuracy: 0.7293333333333333\n",
      "Model: deit, Epoch: 19, Training Loss: 0.5209357782041646, Validation Loss: 1.0014443777977151, Accuracy: 0.7346666666666667\n",
      "Model: deit, Epoch: 20, Training Loss: 0.4914564924425186, Validation Loss: 0.975631168548097, Accuracy: 0.7313333333333333\n",
      "Model: deit, Epoch: 21, Training Loss: 0.46262913983162135, Validation Loss: 0.9722625733690059, Accuracy: 0.7363333333333333\n",
      "Model: deit, Epoch: 22, Training Loss: 0.4335401542654865, Validation Loss: 0.9641017501658582, Accuracy: 0.7323333333333333\n",
      "Model: deit, Epoch: 23, Training Loss: 0.40880103518157246, Validation Loss: 0.9341793060302734, Accuracy: 0.745\n",
      "Model: deit, Epoch: 24, Training Loss: 0.3835271340390863, Validation Loss: 0.9620012406339037, Accuracy: 0.7336666666666667\n",
      "Model: deit, Epoch: 25, Training Loss: 0.35922782844332257, Validation Loss: 0.9546835302038396, Accuracy: 0.7436666666666667\n",
      "Model: deit, Epoch: 26, Training Loss: 0.335816622392772, Validation Loss: 0.9227824534507508, Accuracy: 0.7453333333333333\n",
      "Model: deit, Epoch: 27, Training Loss: 0.3159436957749058, Validation Loss: 0.9163081138692004, Accuracy: 0.7533333333333333\n",
      "Model: deit, Epoch: 28, Training Loss: 0.2977092347732962, Validation Loss: 0.9121608391721198, Accuracy: 0.7463333333333333\n",
      "Model: deit, Epoch: 29, Training Loss: 0.277636480521938, Validation Loss: 0.9112446396908862, Accuracy: 0.7506666666666667\n",
      "Model: deit, Epoch: 30, Training Loss: 0.2620180081831266, Validation Loss: 0.9311328327402155, Accuracy: 0.7426666666666667\n",
      "Model: deit, Epoch: 31, Training Loss: 0.24857027920549862, Validation Loss: 0.9090135598436315, Accuracy: 0.75\n",
      "Model: deit, Epoch: 32, Training Loss: 0.23387865300320054, Validation Loss: 0.9160620100954746, Accuracy: 0.7553333333333333\n",
      "Model: deit, Epoch: 33, Training Loss: 0.2198072115988492, Validation Loss: 0.9120337468512515, Accuracy: 0.7436666666666667\n",
      "Model: deit, Epoch: 34, Training Loss: 0.203998235773006, Validation Loss: 0.8945033518557853, Accuracy: 0.755\n",
      "Model: deit, Epoch: 35, Training Loss: 0.19277031685663684, Validation Loss: 0.9063020063207504, Accuracy: 0.7503333333333333\n",
      "Model: deit, Epoch: 36, Training Loss: 0.18542112882959244, Validation Loss: 0.8919770216688196, Accuracy: 0.7543333333333333\n",
      "Model: deit, Epoch: 37, Training Loss: 0.1754683145581315, Validation Loss: 0.8917532924641954, Accuracy: 0.756\n",
      "Model: deit, Epoch: 38, Training Loss: 0.16109327465023623, Validation Loss: 0.9081892396541352, Accuracy: 0.758\n",
      "Model: deit, Epoch: 39, Training Loss: 0.1553410500560177, Validation Loss: 0.905695489112367, Accuracy: 0.7573333333333333\n",
      "Model: deit, Epoch: 40, Training Loss: 0.14300340444666065, Validation Loss: 0.8903049332030276, Accuracy: 0.757\n",
      "Model: deit, Epoch: 41, Training Loss: 0.13753544614059196, Validation Loss: 0.9042798933830667, Accuracy: 0.7543333333333333\n",
      "Model: deit, Epoch: 42, Training Loss: 0.13084625183991647, Validation Loss: 0.9001730217578563, Accuracy: 0.7576666666666667\n",
      "Model: deit, Epoch: 43, Training Loss: 0.12455432358533824, Validation Loss: 0.9017444132490361, Accuracy: 0.7556666666666667\n",
      "Early stopping triggered for deit at epoch 43\n",
      "Best model for deit saved with accuracy: 0.758\n"
     ]
    }
   ],
   "source": [
    "!python /content/drive/My\\ Drive/Sketch-classification/Mix_aggregate_CNN_Transformer/main.py --data_train /content/drive/My\\ Drive/TU_berlin/train --data_val /content/drive/My\\ Drive/TU_berlin/val --model model.py --model_name deit --epochs 50"
   ]
  },
  {
   "cell_type": "markdown",
   "metadata": {
    "id": "MT8n9DfE45dR"
   },
   "source": [
    "**Evaluation on test set**"
   ]
  },
  {
   "cell_type": "code",
   "execution_count": null,
   "metadata": {
    "colab": {
     "base_uri": "https://localhost:8080/"
    },
    "executionInfo": {
     "elapsed": 30817,
     "status": "ok",
     "timestamp": 1705421988260,
     "user": {
      "displayName": "Franki Nguimatsia",
      "userId": "17250965153113534178"
     },
     "user_tz": -60
    },
    "id": "3CTBbB0cdffi",
    "outputId": "5db10696-992b-4da0-9506-5ce554267df7"
   },
   "outputs": [
    {
     "name": "stdout",
     "output_type": "stream",
     "text": [
      "100% 3000/3000 [00:22<00:00, 133.98it/s]\n",
      "Global Accuracy: 0.7673333333333333\n",
      "Top 5 Performing Classes: [('apple', 1.0), ('baseball bat', 1.0), ('camera', 1.0), ('envelope', 1.0), ('eyeglasses', 1.0)]\n",
      "Bottom 5 Performing Classes: [('seagull', 0.3333333333333333), ('barn', 0.25), ('bear (animal)', 0.25), ('duck', 0.25), ('standing bird', 0.25)]\n"
     ]
    }
   ],
   "source": [
    "!python /content/drive/My\\ Drive/Sketch-classification/Mix_aggregate_CNN_Transformer/evaluate.py --model_names deit"
   ]
  },
  {
   "cell_type": "markdown",
   "metadata": {
    "id": "WtIlzm7b6Tys"
   },
   "source": [
    "**Display the performance on validation set**"
   ]
  },
  {
   "cell_type": "code",
   "execution_count": null,
   "metadata": {
    "colab": {
     "base_uri": "https://localhost:8080/"
    },
    "executionInfo": {
     "elapsed": 535302,
     "status": "ok",
     "timestamp": 1705443159963,
     "user": {
      "displayName": "Franki Nguimatsia",
      "userId": "17250965153113534178"
     },
     "user_tz": -60
    },
    "id": "91fERF-o-9xf",
    "outputId": "f080694f-ad09-4126-90ea-c23fcf073a2e"
   },
   "outputs": [
    {
     "name": "stdout",
     "output_type": "stream",
     "text": [
      "100% 3000/3000 [08:47<00:00,  5.69it/s]\n",
      "Global Accuracy: 0.758\n",
      "Top 5 Performing Classes: [('bicycle', 1.0), ('carrot', 1.0), ('computer-mouse', 1.0), ('ear', 1.0), ('envelope', 1.0)]\n",
      "Bottom 5 Performing Classes: [('banana', 0.3333333333333333), ('cup', 0.3333333333333333), ('race car', 0.3333333333333333), ('truck', 0.3333333333333333), ('flying bird', 0.25)]\n"
     ]
    }
   ],
   "source": [
    "!python /content/drive/My\\ Drive/Sketch-classification/Mix_aggregate_CNN_Transformer/evaluate.py --data val --model_names deit"
   ]
  },
  {
   "cell_type": "markdown",
   "metadata": {
    "id": "Eh6wKGjm44gI"
   },
   "source": []
  },
  {
   "cell_type": "markdown",
   "metadata": {
    "id": "Chcx45kydffi"
   },
   "source": [
    "### III) Ensemble methods"
   ]
  },
  {
   "cell_type": "markdown",
   "metadata": {
    "id": "qJx1h--W48Ga"
   },
   "source": [
    "**Evaluation on test set**"
   ]
  },
  {
   "cell_type": "code",
   "execution_count": null,
   "metadata": {
    "colab": {
     "base_uri": "https://localhost:8080/"
    },
    "executionInfo": {
     "elapsed": 227633,
     "status": "ok",
     "timestamp": 1705444357187,
     "user": {
      "displayName": "Franki Nguimatsia",
      "userId": "17250965153113534178"
     },
     "user_tz": -60
    },
    "id": "KWBxtnANdffi",
    "outputId": "60a8de69-1ec7-4de4-a628-833b4a78101c"
   },
   "outputs": [
    {
     "name": "stdout",
     "output_type": "stream",
     "text": [
      "/usr/local/lib/python3.10/dist-packages/torchvision/models/_utils.py:223: UserWarning: Arguments other than a weight enum or `None` for 'weights' are deprecated since 0.13 and may be removed in the future. The current behavior is equivalent to passing `weights=None`.\n",
      "  warnings.warn(msg)\n",
      "/usr/local/lib/python3.10/dist-packages/torch/functional.py:504: UserWarning: torch.meshgrid: in an upcoming release, it will be required to pass the indexing argument. (Triggered internally at ../aten/src/ATen/native/TensorShape.cpp:3526.)\n",
      "  return _VF.meshgrid(tensors, **kwargs)  # type: ignore[attr-defined]\n",
      "/usr/local/lib/python3.10/dist-packages/torchvision/models/_utils.py:208: UserWarning: The parameter 'pretrained' is deprecated since 0.13 and may be removed in the future, please use 'weights' instead.\n",
      "  warnings.warn(\n",
      "100% 3000/3000 [03:32<00:00, 14.09it/s]\n",
      "Global Accuracy: 0.8203333333333334\n",
      "Top 5 Performing Classes: [('apple', 1.0), ('basket', 1.0), ('butterfly', 1.0), ('camera', 1.0), ('comb', 1.0)]\n",
      "Bottom 5 Performing Classes: [('teddy-bear', 0.5), ('race car', 0.4166666666666667), ('seagull', 0.3333333333333333), ('bear (animal)', 0.25), ('standing bird', 0.25)]\n"
     ]
    }
   ],
   "source": [
    "!python /content/drive/My\\ Drive/Sketch-classification/Mix_aggregate_CNN_Transformer/evaluate.py --model_names resnet50 resnext50_32x4d efficientnet_b3 deit vit swin mobilenet_v2"
   ]
  },
  {
   "cell_type": "markdown",
   "metadata": {
    "id": "gpOWzP2W6Xlk"
   },
   "source": [
    "**Display the performance on validation set**"
   ]
  },
  {
   "cell_type": "code",
   "execution_count": null,
   "metadata": {
    "colab": {
     "base_uri": "https://localhost:8080/"
    },
    "executionInfo": {
     "elapsed": 224865,
     "status": "ok",
     "timestamp": 1705422580966,
     "user": {
      "displayName": "Franki Nguimatsia",
      "userId": "17250965153113534178"
     },
     "user_tz": -60
    },
    "id": "B9upk-oA_ZFG",
    "outputId": "301d673a-ba9f-4666-f7ad-d40fc956ff2f"
   },
   "outputs": [
    {
     "name": "stdout",
     "output_type": "stream",
     "text": [
      "/usr/local/lib/python3.10/dist-packages/torchvision/models/_utils.py:223: UserWarning: Arguments other than a weight enum or `None` for 'weights' are deprecated since 0.13 and may be removed in the future. The current behavior is equivalent to passing `weights=None`.\n",
      "  warnings.warn(msg)\n",
      "/usr/local/lib/python3.10/dist-packages/torch/functional.py:504: UserWarning: torch.meshgrid: in an upcoming release, it will be required to pass the indexing argument. (Triggered internally at ../aten/src/ATen/native/TensorShape.cpp:3526.)\n",
      "  return _VF.meshgrid(tensors, **kwargs)  # type: ignore[attr-defined]\n",
      "/usr/local/lib/python3.10/dist-packages/torchvision/models/_utils.py:208: UserWarning: The parameter 'pretrained' is deprecated since 0.13 and may be removed in the future, please use 'weights' instead.\n",
      "  warnings.warn(\n",
      "100% 3000/3000 [03:33<00:00, 14.04it/s]\n",
      "Global Accuracy: 0.8143333333333334\n",
      "Top 5 Performing Classes: [('airplane', 1.0), ('arm', 1.0), ('bicycle', 1.0), ('church', 1.0), ('comb', 1.0)]\n",
      "Bottom 5 Performing Classes: [('angel', 0.4166666666666667), ('bridge', 0.4166666666666667), ('head', 0.4166666666666667), ('race car', 0.4166666666666667), ('cup', 0.25)]\n"
     ]
    }
   ],
   "source": [
    "!python /content/drive/My\\ Drive/Sketch-classification/Mix_aggregate_CNN_Transformer/evaluate.py --data val --model_names resnet50 resnext50_32x4d efficientnet_b3 deit vit swin mobilenet_v2"
   ]
  },
  {
   "cell_type": "code",
   "execution_count": null,
   "metadata": {
    "colab": {
     "base_uri": "https://localhost:8080/"
    },
    "executionInfo": {
     "elapsed": 4342698,
     "status": "ok",
     "timestamp": 1705448880078,
     "user": {
      "displayName": "Franki Nguimatsia",
      "userId": "17250965153113534178"
     },
     "user_tz": -60
    },
    "id": "dkUa8gNWbvie",
    "outputId": "32132525-5a19-449f-cd6d-c71149b629e3"
   },
   "outputs": [
    {
     "name": "stdout",
     "output_type": "stream",
     "text": [
      "Model names: ['CNN']\n",
      "Model: CNN, Epoch: 0, Training Loss: 5.5250524385879025, Validation Loss: 5.524569673741118, Accuracy: 0.002\n",
      "Model: CNN, Epoch: 1, Training Loss: 5.524911597439143, Validation Loss: 5.524433765005558, Accuracy: 0.0013333333333333333\n",
      "Model: CNN, Epoch: 2, Training Loss: 5.524857359934071, Validation Loss: 5.524319740051919, Accuracy: 0.0016666666666666668\n",
      "Model: CNN, Epoch: 3, Training Loss: 5.524733697987038, Validation Loss: 5.524268383675433, Accuracy: 0.0036666666666666666\n",
      "Model: CNN, Epoch: 4, Training Loss: 5.524710842463524, Validation Loss: 5.524204751278492, Accuracy: 0.0033333333333333335\n",
      "Model: CNN, Epoch: 5, Training Loss: 5.524599554331879, Validation Loss: 5.524153151410691, Accuracy: 0.004\n",
      "Model: CNN, Epoch: 6, Training Loss: 5.52453779194453, Validation Loss: 5.524170601621587, Accuracy: 0.0036666666666666666\n",
      "Model: CNN, Epoch: 7, Training Loss: 5.524475707311064, Validation Loss: 5.524115552293494, Accuracy: 0.0033333333333333335\n",
      "Model: CNN, Epoch: 8, Training Loss: 5.524348581218284, Validation Loss: 5.5239940095455085, Accuracy: 0.0033333333333333335\n",
      "Model: CNN, Epoch: 9, Training Loss: 5.524327985772259, Validation Loss: 5.523923204300251, Accuracy: 0.0033333333333333335\n",
      "Model: CNN, Epoch: 10, Training Loss: 5.524239581469532, Validation Loss: 5.523905632343698, Accuracy: 0.0036666666666666666\n",
      "Model: CNN, Epoch: 11, Training Loss: 5.524189237045915, Validation Loss: 5.5238452870795065, Accuracy: 0.003\n",
      "Model: CNN, Epoch: 12, Training Loss: 5.524122527745217, Validation Loss: 5.523784749051358, Accuracy: 0.0033333333333333335\n",
      "Model: CNN, Epoch: 13, Training Loss: 5.524085650160977, Validation Loss: 5.523730967907196, Accuracy: 0.003\n",
      "Model: CNN, Epoch: 14, Training Loss: 5.5240846398758565, Validation Loss: 5.523643706707245, Accuracy: 0.004\n",
      "Model: CNN, Epoch: 15, Training Loss: 5.524004169795067, Validation Loss: 5.523549820514435, Accuracy: 0.004\n",
      "Early stopping triggered for CNN at epoch 15\n",
      "Best model for CNN saved with accuracy: 0.004\n"
     ]
    }
   ],
   "source": [
    "!python /content/drive/My\\ Drive/Sketch-classification/Mix_aggregate_CNN_Transformer/main.py --data_train /content/drive/My\\ Drive/TU_berlin/train --data_val /content/drive/My\\ Drive/TU_berlin/val --model model.py --model_names CNN --epochs 50 --num_workers 2\n"
   ]
  }
 ],
 "metadata": {
  "accelerator": "GPU",
  "colab": {
   "gpuType": "T4",
   "machine_shape": "hm",
   "provenance": []
  },
  "kernelspec": {
   "display_name": "Python 3 (ipykernel)",
   "language": "python",
   "name": "python3"
  },
  "language_info": {
   "codemirror_mode": {
    "name": "ipython",
    "version": 3
   },
   "file_extension": ".py",
   "mimetype": "text/x-python",
   "name": "python",
   "nbconvert_exporter": "python",
   "pygments_lexer": "ipython3",
   "version": "3.9.18"
  },
  "varInspector": {
   "cols": {
    "lenName": 16,
    "lenType": 16,
    "lenVar": 40
   },
   "kernels_config": {
    "python": {
     "delete_cmd_postfix": "",
     "delete_cmd_prefix": "del ",
     "library": "var_list.py",
     "varRefreshCmd": "print(var_dic_list())"
    },
    "r": {
     "delete_cmd_postfix": ") ",
     "delete_cmd_prefix": "rm(",
     "library": "var_list.r",
     "varRefreshCmd": "cat(var_dic_list()) "
    }
   },
   "types_to_exclude": [
    "module",
    "function",
    "builtin_function_or_method",
    "instance",
    "_Feature"
   ],
   "window_display": false
  }
 },
 "nbformat": 4,
 "nbformat_minor": 1
}
